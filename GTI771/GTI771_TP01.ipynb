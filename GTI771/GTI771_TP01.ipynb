{
  "cells": [
    {
      "cell_type": "markdown",
      "metadata": {
        "id": "view-in-github",
        "colab_type": "text"
      },
      "source": [
        "<a href=\"https://colab.research.google.com/github/PlasmaLotus/EmptyProject/blob/main/GTI771/GTI771_TP01.ipynb\" target=\"_parent\"><img src=\"https://colab.research.google.com/assets/colab-badge.svg\" alt=\"Open In Colab\"/></a>"
      ]
    },
    {
      "cell_type": "markdown",
      "metadata": {
        "id": "m5hXSJAP5CTP"
      },
      "source": [
        "# GTI771 - Apprentissage machine avancé\n",
        "## Département du génie logiciel et des technologies de l’information\n",
        "\n",
        "\n",
        "\n",
        "## Laboratoire 1 - Analyse et préparation des données et extraction de primitives\n",
        "#### <font color=black> Version 6.0 janvier 2022 </font>\n",
        "#### <font color=white> Version 4.0 mai 2020 </font>\n",
        "#### <font color=white> Version 5.0 janvier 2021 </font>\n",
        "\n",
        "##### Prof. Alessandro L. Koerich"
      ]
    },
    {
      "cell_type": "markdown",
      "metadata": {
        "id": "3jMTsIjF5CTR"
      },
      "source": [
        "| NOMS                  | CODE PERMANENT                                   |\n",
        "|-----------------------|--------------------------------------------------|\n",
        "| Lee-Stenio Nazer      | Nazl14039501                                     |\n",
        "| Étudiant2             | Code2                                            |\n",
        "| Étudiant3             | Code3                                            |"
      ]
    },
    {
      "cell_type": "markdown",
      "metadata": {
        "id": "hxXfak6Y5CTR"
      },
      "source": [
        "## Introduction\n",
        "\n",
        "Ce premier laboratoire porte sur la définition et l’extraction de primitives sur des visages. Le problème de classification qui vous est présenté est le problème [Facial Expression Recognition (FER)](https://www.kaggle.com/c/challenges-in-representation-learning-facial-expression-recognition-challenge/data), dont le but est de classer des visages dans sept catégories. En vous basant sur les concepts vus en classe, vous devez définir des primitives que vous jugez pertinentes à extraire sur ces types d’images et effectuer l’extraction de celles-ci sur l’ensemble de données fournies avec cet énoncé.\n",
        "\n",
        "Veuillez noter que les images qui vous sont fournies ne sont pas nécessairement très faciles à travailler. Plusieurs images comportent du bruit, des artéfacts ou des éléments non pertinents. Le défi de ce laboratoire repose sur cette difficulté qui est chose courante dans des problèmes d’apprentissage machine moderne.\n",
        "\n",
        "Voici, en exemple, des images de visages se retrouvant dans l’ensemble de données:\n",
        "\n",
        "![Exemples de FER](https://miro.medium.com/max/2420/1*nXqJ4lMiBRp4Ilm3bpRxuA.png)\n",
        "\n",
        "\n",
        "L’évaluation de ce laboratoire sera basée sur la qualité des primitives proposées, les réponses aux questions dans cette notebook ainsi que l'organisation de votre code source <font color=black> (SVP, n'oubliez pas de mettre des commentaires dans le code!)</font>. Le pouvoir discriminant, c’est-à-dire la capacité des primitives à bien séparer les exemples des classes dans l’espace des primitives, sera également évalué."
      ]
    },
    {
      "cell_type": "markdown",
      "metadata": {
        "collapsed": true,
        "id": "GrHNDTcH5CTS"
      },
      "source": [
        "# Partie 1: Imports (5 points)"
      ]
    },
    {
      "cell_type": "markdown",
      "metadata": {
        "id": "ki67Nhzm5CTS"
      },
      "source": [
        "### 1a: Import de bibliotèques"
      ]
    },
    {
      "cell_type": "markdown",
      "metadata": {
        "id": "g-U5kDKZ5CTS"
      },
      "source": [
        "### À faire:\n",
        "1. Ajouter toutes les bibliothèques que vous avez utilisées pour compléter ce notebook dans une cellule avec une petite description."
      ]
    },
    {
      "cell_type": "code",
      "execution_count": null,
      "metadata": {
        "id": "GmY_4nCm5CTS"
      },
      "outputs": [],
      "source": [
        "import numpy as np  # package for scientific computing with Python.\n",
        "import matplotlib.pyplot as plt # 2D plotting library\n",
        "print('hello')\n",
        "# Votre code ici"
      ]
    },
    {
      "cell_type": "markdown",
      "metadata": {
        "id": "RBjCRKeq5CTT"
      },
      "source": [
        "#### Fonctions"
      ]
    },
    {
      "cell_type": "code",
      "execution_count": null,
      "metadata": {
        "id": "8diEq8e45CTT"
      },
      "outputs": [],
      "source": [
        "def fa():\n",
        "    return 1"
      ]
    },
    {
      "cell_type": "markdown",
      "metadata": {
        "id": "zRiCVEaF5CTT"
      },
      "source": [
        "## Partie 2: Analyse exploratoire des données (10 points)\n",
        "\n",
        "On va commencer en regardant les données.\n",
        "\n",
        "Pour ce lab, nous allons utiliser le dataset FER.\n",
        "\n",
        "Le dataset est disponible dans https://www.kaggle.com/c/challenges-in-representation-learning-facial-expression-recognition-challenge/data, et il continent presque 35,000 visages."
      ]
    },
    {
      "cell_type": "markdown",
      "metadata": {
        "id": "_QrlLOPg5CTT"
      },
      "source": [
        "## 2a: Charger le fichier de données (2 points)"
      ]
    },
    {
      "cell_type": "code",
      "execution_count": null,
      "metadata": {
        "id": "FgTo2sM35CTU"
      },
      "outputs": [],
      "source": [
        "# load data\n",
        "ferData = np.loadtxt( 'fer2013.csv', delimiter=',', dtype=str )\n",
        " \n",
        "# Training set\n",
        "Xtrain = np.ones( (28709,2304), float )\n",
        "\n",
        "for i in range( 1, 28710 ):\n",
        "    Xtrain[i-1] = ferData[i,1].split(\" \")\n",
        "\n",
        "ytrain = ferData[1:28710,0].astype( np.int )\n",
        "\n",
        "# Validation set\n",
        "Xval = np.ones( (3589,2304), float )\n",
        "\n",
        "for i in range( 28710, 32299 ):\n",
        "    Xval[i-28710] = ferData[i,1].split(\" \")\n",
        "\n",
        "yval = ferData[28710:32299,0].astype( np.int )\n",
        "\n",
        "# Test set\n",
        "Xtest = np.ones( (3589,2304), float )\n",
        "\n",
        "for i in range( 32299, 35888 ):\n",
        "    Xtest[i-32299] = ferData[i,1].split(\" \")\n",
        "\n",
        "ytest = ferData[32299:,0].astype( np.int )\n",
        "\n",
        "print(Xtrain.shape, Xval.shape, Xtest.shape)"
      ]
    },
    {
      "cell_type": "code",
      "execution_count": null,
      "metadata": {
        "id": "S8zJDvwu5CTU"
      },
      "outputs": [],
      "source": [
        "# reshape to be [samples][channels][width][height]\n",
        "Xtrain = Xtrain.reshape( Xtrain.shape[0], 1, 48, 48 ).astype('uint8')\n",
        "Xtest  = Xtest.reshape( Xtest.shape[0], 1, 48, 48 ).astype('uint8')\n",
        "Xval   = Xval.reshape( Xval.shape[0], 1, 48, 48 ).astype('uint8')\n",
        "\n",
        "print( Xtrain.shape, Xval.shape, Xtest.shape )"
      ]
    },
    {
      "cell_type": "markdown",
      "metadata": {
        "id": "iqRbkI4e5CTU"
      },
      "source": [
        "## 2b: Pre-traitement et visualisation des visages (3 points)"
      ]
    },
    {
      "cell_type": "markdown",
      "metadata": {
        "id": "Kv1EKsf05CTU"
      },
      "source": [
        "Vous pouvez visualiser les images en utilisant `plt.imshow`.\n",
        "\n",
        "Il y a différents types de prétraitement que nous pouvons appliquer à des images dans les ensembles de données pour réduire la variabilité, réduire des bruits, etc.\n",
        "\n",
        "### À faire:\n",
        "1. Pensez-vous qu’est nécessaire un prétraitement des images? Si oui, vous pouvez choisir différents algorithmes de prétraitement dans [scikit-image](https://scikit-image.org/docs/stable/api/api.html). Il y a aussi autres types de prétraitement plus généraux dans [scikit-learn](https://scikit-learn.org/stable/modules/preprocessing.html#preprocessing).\n",
        "2. Expliquer et justifier les prétraitements choisis."
      ]
    },
    {
      "cell_type": "markdown",
      "metadata": {
        "id": "RK-k0pwH5CTU"
      },
      "source": [
        "#### Code"
      ]
    },
    {
      "cell_type": "code",
      "execution_count": null,
      "metadata": {
        "id": "iNhD7DKE5CTU"
      },
      "outputs": [],
      "source": [
        "# Votre code de pre-processing"
      ]
    },
    {
      "cell_type": "markdown",
      "metadata": {
        "id": "-_FayaPH5CTU"
      },
      "source": [
        "#### Résultats et résponses"
      ]
    },
    {
      "cell_type": "code",
      "execution_count": null,
      "metadata": {
        "id": "2dcYK8xa5CTV"
      },
      "outputs": [],
      "source": [
        "# Votre explication/justification"
      ]
    },
    {
      "cell_type": "markdown",
      "metadata": {
        "id": "9OLXnUhR5CTV"
      },
      "source": [
        "## 2c: Statistiques des données (2 points)"
      ]
    },
    {
      "cell_type": "markdown",
      "metadata": {
        "id": "b8Uht7jD5CTV"
      },
      "source": [
        "### À faire:\n",
        "1. Calculer quelques statistiques descriptives (moyenne/écart-type/min/max/etc ) que vous jugez importantes/pertinents sur les entrées (pixels/regions l'images/etc) et sorties (classe/sexe/ethinie/age etc.)\n",
        "\n",
        "2. Faire une analyse des résultats et présenter vos conclusions sur ces statistiques."
      ]
    },
    {
      "cell_type": "markdown",
      "metadata": {
        "id": "jLvJmD8A5CTV"
      },
      "source": [
        "#### Code"
      ]
    },
    {
      "cell_type": "code",
      "execution_count": null,
      "metadata": {
        "id": "nTH3ork55CTV"
      },
      "outputs": [],
      "source": [
        "# Votre code ici\n",
        "\n",
        "# Code exemple:\n",
        "# Histogramme des étiquettes (classes)\n",
        "hist, _ = np.histogram(ytrain, density=False, bins=7, range=(0, 7))\n",
        "\n",
        "# Code exemple:\n",
        "# Code exemple\n",
        "# Plot du histogramme\n",
        "# import matplotlib.pyplot as plt\n",
        "\n",
        "fig, ax = plt.subplots()\n",
        "\n",
        "ax.hist(ytrain, bins = [0,1,2,3,4,5,6,7]) \n",
        "\n",
        "ax.set_xticklabels([])\n",
        "#(0=Angry, 1=Disgust, 2=Fear, 3=Happy, 4=Sad, 5=Surprise, 6=Neutral).\n",
        "labels = ['Angry', 'Disgust', 'Fear', 'Happy', 'Sad', 'Surprise', 'Neutral']\n",
        "mticks = ax.get_xticks()\n",
        "ax.set_xticks((mticks[:-1]+mticks[1:])/2+1, minor=True)\n",
        "ax.tick_params(axis='x', which='minor', length=0)\n",
        "ax.set_xticklabels(labels, minor=True)\n",
        "plt.show()"
      ]
    },
    {
      "cell_type": "markdown",
      "metadata": {
        "id": "7hNMC6yG5CTV"
      },
      "source": [
        "#### Résultats et résponses"
      ]
    },
    {
      "cell_type": "code",
      "execution_count": null,
      "metadata": {
        "id": "SQPqEgiZ5CTV"
      },
      "outputs": [],
      "source": [
        "# Vos résultats ici"
      ]
    },
    {
      "cell_type": "markdown",
      "metadata": {
        "id": "UAA96KKL5CTV"
      },
      "source": [
        "## 2d: Créer et évaluer un modèle \"template matching\" (3 points)\n",
        "\n",
        "Un deuxièmme modèle simple, mais naturel est une où nous calculons un modèle (prototype/template) moyen (moyenne des valeurs de pixels) pour chaque classe (sur les données d'apprentissage) et nous utilisons ces modèles (templates) pour faire des prédictions sur des nouvelles données."
      ]
    },
    {
      "cell_type": "markdown",
      "metadata": {
        "id": "w1GNCMUL5CTV"
      },
      "source": [
        "### À faire:\n",
        "1. Créer un template/prototype pour chaque classe\n",
        "2. Faire un plot de chaque template <font color=black> (visage moyen pour chaque classe) </font>\n",
        "3. Classifier par \"template matching - plus proche prototype\", tous les exemples (ensembles d'apprentissage, validation et test) et reporter les résultats:<br>\n",
        " 3a. taux de classification correct sur les trois (3) ensembles de données (sous la forme d'un tableau)<br>\n",
        " 3b. matrice de confusion pour les résultas sur l'ensemble de test (matrice 7 x 7 - etiquette x prédictions) \n",
        "4. Faire une analyse des résultats et présenter vos conclusions sur ce modèle (performe bien/mal, pour quoi?, faiblasses/fortesses, possibles améliorations, etc.)"
      ]
    },
    {
      "cell_type": "markdown",
      "metadata": {
        "id": "iu9q6ZKS5CTW"
      },
      "source": [
        "#### Code"
      ]
    },
    {
      "cell_type": "code",
      "execution_count": null,
      "metadata": {
        "id": "KNzPXUZ35CTW"
      },
      "outputs": [],
      "source": [
        "# Votre code de création des modèles et template matching"
      ]
    },
    {
      "cell_type": "markdown",
      "metadata": {
        "id": "YzqUE1vX5CTW"
      },
      "source": [
        "#### Résultats et résponses"
      ]
    },
    {
      "cell_type": "code",
      "execution_count": null,
      "metadata": {
        "id": "ZrdIL33p5CTW"
      },
      "outputs": [],
      "source": [
        "# Vos résultats ici"
      ]
    },
    {
      "cell_type": "markdown",
      "metadata": {
        "id": "XuLsYRDK5CTW"
      },
      "source": [
        "# Partie 3: Extraction de primitives (20 points)\n",
        "\n",
        "Vous devez faire une recherche bibliographique pour trouver quelles sont les primitives qui sont plus souvent utilisées pour la reconnaissance des expressions faciales. Voici quelques sources et mot-clés pour guider votre recherche:\n",
        "\n",
        "- http://www.inf.ufpr.br/lesoliveira/download/ESWA2013.pdf\n",
        "- https://doi.org/10.1016/j.patrec.2015.06.007 \n",
        "- https://doi.org/10.1109/FG.2011.5771374\n",
        "- https://www.hindawi.com/journals/ijbi/2015/267807/\n",
        "\n",
        "\n",
        "Mots-clés: facial expression recognition, facial emotion recognition.\n",
        "\n",
        "Bibliothèques Python pour l'extraction de primitives :\n",
        "* [Scikit-image](https://scikit-image.org/docs/dev/)\n",
        "* [OpenCV](https://opencv-python-tutroals.readthedocs.io/en/latest/py_tutorials/py_tutorials.html)\n",
        "* [Scikit-learn](https://scikit-learn.org/stable/modules/feature_extraction.html)\n",
        "\n",
        "Primitives candidates : \n",
        "\n",
        "* LBP, LPQ, Gabor filters, SIFT, SURF, HOG, GLCM, Haralick Moments, etc.\n",
        "\n",
        "\n",
        "#### <font color=red> Attention! Les équipes doivent utiliser des primitives différentes! </font>\n",
        "- Chaque équipe doit poster un message dans le \"forum TP1\" avec sa choix\n",
        "- Premier arrivé premier servi!\n",
        "\n"
      ]
    },
    {
      "cell_type": "markdown",
      "metadata": {
        "id": "M5uu86zm5CTW"
      },
      "source": [
        "## 3a: Extraire des primitives (10 points)"
      ]
    },
    {
      "cell_type": "markdown",
      "metadata": {
        "id": "HbAi-1vR5CTW"
      },
      "source": [
        "### À faire:\n",
        "1. Choisir une primitive et extraire ces primitives des visages (ensembles d'apprentissage, validation et test).\n",
        "Un groupe de primitives peut être 16 filtres Gabor, un ensemble de Haar-like features ou bien les différentes features de Haralick Texture Features (p. ex. contraste, homogénéité, etc.). Vous devez en sélectionner qu'une primitive.\n",
        "\n",
        "Attention! Le résultat des algorithmes d'extraction de primitives doit être des vecteurs de primitives. Il y a des algorithmes qui nécessitent d'une étape additionnelle comme calculer les histogrammes de primitives (p. ex. LBP, LPQ, SIFT, etc.)\n",
        "\n",
        "2. <font color=black>Sauvegarder vos vecteurs de primitives dans des fichiers '.csv'. Utiliser la même structure du fichier FER3013, où nous avons dans un seul fichier, séquentiellement, les trois partitions: apprentissage (0-28709), validation (28710-32299) et test (32299, 35888). Nommer vos fichiers de primitive en référence à la primitive utilisée. Ex.: lbp83_fer2013.csv </font> \n",
        "\n",
        "3. Justifier votre choix de primitives."
      ]
    },
    {
      "cell_type": "markdown",
      "metadata": {
        "id": "EINusbWz5CTW"
      },
      "source": [
        "#### Code"
      ]
    },
    {
      "cell_type": "code",
      "execution_count": null,
      "metadata": {
        "id": "10010Dzk5CTX"
      },
      "outputs": [],
      "source": [
        "# Votre code ici"
      ]
    },
    {
      "cell_type": "markdown",
      "metadata": {
        "id": "II3wFhpR5CTX"
      },
      "source": [
        "#### Responses"
      ]
    },
    {
      "cell_type": "markdown",
      "metadata": {
        "id": "1GvAfSvI5CTX"
      },
      "source": [
        "Vos reponses ici"
      ]
    },
    {
      "cell_type": "markdown",
      "metadata": {
        "id": "hX1ZVycu5CTX"
      },
      "source": [
        "## 3b: Analyse visuelle des primitives (10 points)"
      ]
    },
    {
      "cell_type": "markdown",
      "metadata": {
        "id": "u4Nwp4qC5CTX"
      },
      "source": [
        "##### À faire:\n",
        "1. Choisir quelques paires de primitives (deux dimensions de votre vecteur de primitives) et tracer un graphique 2D (données d'apprentissage) pour visualiser si ces primitives sont capables de bien séparer les sept (7) classes.\n",
        "2. Faire une analyse des résultats de visualisation et présenter vos conclusions sur ces primitives/paires choisies."
      ]
    },
    {
      "cell_type": "markdown",
      "metadata": {
        "id": "JsK5wgjQ5CTY"
      },
      "source": [
        "#### Code"
      ]
    },
    {
      "cell_type": "code",
      "execution_count": null,
      "metadata": {
        "id": "OTP-JTn25CTY"
      },
      "outputs": [],
      "source": [
        "# Votre code ici"
      ]
    },
    {
      "cell_type": "markdown",
      "metadata": {
        "id": "uqSgU37U5CTY"
      },
      "source": [
        "#### Résultats et résponses"
      ]
    },
    {
      "cell_type": "code",
      "execution_count": null,
      "metadata": {
        "id": "cua5M3o_5CTY"
      },
      "outputs": [],
      "source": [
        "# Vos résultats ici"
      ]
    },
    {
      "cell_type": "markdown",
      "metadata": {
        "id": "7wJmZoIP5CTY"
      },
      "source": [
        "# Partie 4: Construction des modèle (20 points)\n",
        "\n",
        "Nous sommes maintenant prêtes à entraîner un premier modèle avec les primitives extraites dans la Partie 3. "
      ]
    },
    {
      "cell_type": "markdown",
      "metadata": {
        "id": "frQxKgve5CTY"
      },
      "source": [
        "## 4a: Entraîner des modèles (10 points)\n",
        "\n",
        "1) Vous devez choisir un des algorithmes d'apprentissage suivants (déjà vues en LOG635) et l'entraîner sur les données d'apprentissage:<br>\n",
        "* [Decision trees](https://scikit-learn.org/stable/modules/tree.html) de scikit-learn. <br>\n",
        "* [k-NN](https://scikit-learn.org/stable/modules/neighbors.html#nearest-neighbors-classification) de scikit-learn. <br>\n",
        "* [Naïve Bayes](https://scikit-learn.org/stable/modules/naive_bayes.html) de scikit-learn. \n",
        "\n",
        "2) Un fois choisi l'algorithme d'apprentissage, vous devez entraîner deux modèles:<br>\n",
        "- Modèle baseline: Entraîner sur les pixels bruts (Partie 2a) ou sur les images de visage prétraites (Partie 2b). Dans ce cas, vous devez \"vectoriser\" vos images 48x48 pour les transformer dans des vecteurs 2304-dimensional. \n",
        "- Modèle \"primitive\": Entraîner sur les vecteurs de primitive générés dans la Partie 3.\n",
        "\n",
        "Pour ces premiers modèles entrînes, vous n'êtes pas censé de les régler (optimisation des hyperparamètres). Vous allez faire ce réglage des hyperparamètres dans la Partie (4b).\n",
        "\n",
        "Après l'entraînement, vous devez faire des prédictions sur les données de validation et test."
      ]
    },
    {
      "cell_type": "markdown",
      "metadata": {
        "id": "YeHDdRaA5CTY"
      },
      "source": [
        "### À faire:\n",
        "1. Expliquer/jurtifier pourquoi vous avez choisi cet algorithme d'apprentissage.\n",
        "2. Entraîner les modèles avec l'algorithme d'apprentissage choisi\n",
        "3. Classifier tous les exemples (ensembles d'apprentissage, validation et test) avec les deux modèles et reporter les résultats:<br>\n",
        " 3a. taux de classification correct sur les trois (3) ensembles de données<br>\n",
        " 3b. matrice de confusion pour l'ensemble de test\n",
        "4. Sauvagarder votre modèle dans un fichier. Regarder [model persistence](https://scikitlearn.org/stable/modules/model_persistence.html?highlight=persistence)\n",
        "5. Mettre les résultats dans un tableau et les comparer avec le modèle \"template matching\"\n",
        "5. Faire une analyse des résultats et présenter vos conclusions sur la performance des modèles.\n",
        "6. Concernant vos primitives, sont-elles discriminantes? Oui/non/pour quoi?"
      ]
    },
    {
      "cell_type": "markdown",
      "metadata": {
        "id": "rj7_2eQl5CTY"
      },
      "source": [
        "#### Code"
      ]
    },
    {
      "cell_type": "code",
      "execution_count": null,
      "metadata": {
        "id": "RNEhbLjm5CTZ"
      },
      "outputs": [],
      "source": [
        "# Votre code ici"
      ]
    },
    {
      "cell_type": "markdown",
      "metadata": {
        "id": "3IJLXqyj5CTZ"
      },
      "source": [
        "#### Résultats et résponses"
      ]
    },
    {
      "cell_type": "markdown",
      "metadata": {
        "id": "9mYTA-V25CTZ"
      },
      "source": [
        "#### Vos résultats ici:\n",
        "\n",
        "##### Exemple:\n",
        "\n",
        "Taux de classification correcte\n",
        "\n",
        "| Ensemble | modele pixel |  modèle TM  | modèle Haralick |                                 \n",
        "|----------|--------------|-------------|-----------------|\n",
        "| App      | 99,67%       |             |                 |                   \n",
        "| Val      | 89,77%       |             |                 |                             \n",
        "| Test     | 77,99%       |             |                 |        \n",
        "\n",
        "Q1: Nous avons choisi l'algorithme d'arbre de décision parce que...\n",
        "\n",
        "Q2: Les taux de classification indiquent que le modèle...\n",
        "\n",
        "Q3: La performance avec le primitive..."
      ]
    },
    {
      "cell_type": "markdown",
      "metadata": {
        "id": "gXBCLdRI5CTZ"
      },
      "source": [
        "## 4b: Réglage du modèle (10 points)\n",
        "\n",
        "Probablement le modèle \"primitive\" a outperformé les modèle baseline et TM, mais est-ce qu'on peut mieux performer? <br>\n",
        "\n",
        "Est-ce qu'on peut faire un \"fine-tuning\" de vos modèles?<br>\n",
        "\n",
        "Quels sont les paramètres que vous pouvez ajuster dans l'algorithme d'apprentissafe pour essayer d'améliorer la performance?"
      ]
    },
    {
      "cell_type": "markdown",
      "metadata": {
        "id": "CjLAs5Fm5CTZ"
      },
      "source": [
        "##### À faire:\n",
        "1. Lister les principaux hyperparamètres de votre algorithme d'apprentissage qui peuvent aider à améliorer sa performance.\n",
        "2. Choisir quelques paramètres (au moins 2) et tourner un \"grid search\" sur l'ensemble de validation pour trouver les meilleures valeurs pour ces paramètres.\n",
        "3. Une fois que vous avez trouvé les meilleurs modèles (primitive, baseline et TM), utiliser ces modèles pour reclassifier tous les exemples (apprentissage, validation, test) et reporter les résultats (comme dans la Partie 4a):<br>\n",
        " 3a. taux de classification correct sur les 3 ensembles<br>\n",
        " 3b. matrice de confusion pour l'ensemble de test\n",
        "4. Sauvagarder votre modèle dans un fichier. Regarder [model persistence](https://scikitlearn.org/stable/modules/model_persistence.html?highlight=persistence)\n",
        "5. Explique pourquoi vous avez choisi ces hyperparamètres pour les optimiser.\n",
        "6. Faire une analyse des résultats et présenter vos conclusions sur les modèles optimises (comparer avec ceux obténus dans la Partie 4a)"
      ]
    },
    {
      "cell_type": "markdown",
      "metadata": {
        "id": "ywi8t0WM5CTZ"
      },
      "source": [
        "#### Code"
      ]
    },
    {
      "cell_type": "code",
      "execution_count": null,
      "metadata": {
        "id": "DxostBwp5CTZ"
      },
      "outputs": [],
      "source": [
        "# Votre code ici"
      ]
    },
    {
      "cell_type": "markdown",
      "metadata": {
        "id": "DxNdFXeE5CTa"
      },
      "source": [
        "#### Grid search"
      ]
    },
    {
      "cell_type": "code",
      "execution_count": null,
      "metadata": {
        "id": "fOhWstnR5CTa"
      },
      "outputs": [],
      "source": [
        "# Votre code ici"
      ]
    },
    {
      "cell_type": "markdown",
      "metadata": {
        "id": "aykGaBcD5CTa"
      },
      "source": [
        "#### Résultats et résponses"
      ]
    },
    {
      "cell_type": "code",
      "execution_count": null,
      "metadata": {
        "id": "laISewZg5CTa"
      },
      "outputs": [],
      "source": [
        "# Vos résultats ici: voir Partie 4a"
      ]
    },
    {
      "cell_type": "markdown",
      "metadata": {
        "id": "f2R7s6im5CTa"
      },
      "source": [
        "# Partie 5: Réduction de la dimensionnalité (20 points)\n",
        "\n",
        "Bibliotèques Python pour la reduction de la dimensionnalité : \n",
        "\n",
        "* [Transformation algorithms](https://scikit-learn.org/stable/modules/decomposition.html#decompositions)\n",
        "* [Feature selection algorithms](https://scikit-learn.org/stable/modules/feature_selection.html)"
      ]
    },
    {
      "cell_type": "markdown",
      "metadata": {
        "id": "LM0fPYWf5CTa"
      },
      "source": [
        "## 5a: Réduction de la dimensionnalité (10 points)"
      ]
    },
    {
      "cell_type": "markdown",
      "metadata": {
        "id": "srqwP0745CTa"
      },
      "source": [
        "### À faire:\n",
        "1. Choisir un algorithme de transformation de primitives et un algorithme de sélection des primitives pour réduire la dimensionnalité de vos vecteurs de primitives (baseline et primitive).\n",
        "2. Choisir les deux meilleures primitives et ploter un graphique primitive $pc_1$ (axe x) X primitive $pc_2$ (axe y) X classe (colour) pour visualiser si juste ces deux primitives sont capables de bien séparer les sept (7) classes.\n",
        "3. Faire une analyse des résultats et présenter vos conclusions sur ces primitives."
      ]
    },
    {
      "cell_type": "markdown",
      "metadata": {
        "id": "S3EdOLns5CTb"
      },
      "source": [
        "#### Code"
      ]
    },
    {
      "cell_type": "code",
      "execution_count": null,
      "metadata": {
        "id": "-JziKCrb5CTb"
      },
      "outputs": [],
      "source": [
        "# Votre code ici"
      ]
    },
    {
      "cell_type": "markdown",
      "metadata": {
        "id": "Fj2FB8g85CTb"
      },
      "source": [
        "#### Résultats et résponses"
      ]
    },
    {
      "cell_type": "code",
      "execution_count": null,
      "metadata": {
        "id": "2xU1vPR55CTb"
      },
      "outputs": [],
      "source": [
        "# Vos résultats ici:"
      ]
    },
    {
      "cell_type": "markdown",
      "metadata": {
        "id": "Zp3Qhi0t5CTb"
      },
      "source": [
        "## 5b: Rentraîner les modèles de la Partie 4a (5 points)\n",
        "\n",
        "Vous devez rentraîner les modèles (baseline et primitive) avec les vecteurs reduits sur les données d'apprentissage.<br>\n",
        "\n",
        "Après l'rentraînement, vous devez faire des prédictions sur les données de test (reduit par la même transformation/selection).<br>\n",
        "\n",
        "Présenter les résults (comme dans les Parties 4a et 4b) et comparer avec ceux des Parties 4a et 4b "
      ]
    },
    {
      "cell_type": "markdown",
      "metadata": {
        "id": "lOvSrP4J5CTb"
      },
      "source": [
        "#### Code"
      ]
    },
    {
      "cell_type": "code",
      "execution_count": null,
      "metadata": {
        "id": "lVNknkpt5CTb"
      },
      "outputs": [],
      "source": [
        "# Votre code ici"
      ]
    },
    {
      "cell_type": "markdown",
      "metadata": {
        "id": "oUm4eSQ_5CTc"
      },
      "source": [
        "#### Résultats et résponses"
      ]
    },
    {
      "cell_type": "code",
      "execution_count": null,
      "metadata": {
        "id": "ki1MdrFZ5CTc"
      },
      "outputs": [],
      "source": [
        "# Vos résultats ici:"
      ]
    },
    {
      "cell_type": "markdown",
      "metadata": {
        "id": "T3Dp0zPM5CTc"
      },
      "source": [
        "## 5c: Réglage du modèle (5 points)\n",
        "\n",
        "Vous devez reoptimiser vos nouveaux modèles et les entraîner sur les données d'apprentissage (comme dans la Partie 4b).<br>\n",
        "\n",
        "Après l'entraînement, vous devez faire des prédictions sur les données de test.<br>\n",
        "\n",
        "Présenter les résults (comme dans les Parties 4a, 4b et 5a) et comparer avec ceux des Parties 4a, 4b et 5a "
      ]
    },
    {
      "cell_type": "markdown",
      "metadata": {
        "id": "48POYF9h5CTc"
      },
      "source": [
        "#### Code"
      ]
    },
    {
      "cell_type": "code",
      "execution_count": null,
      "metadata": {
        "id": "Uh3MnimM5CTc"
      },
      "outputs": [],
      "source": [
        "# Votre code ici"
      ]
    },
    {
      "cell_type": "markdown",
      "metadata": {
        "id": "ujLHgpdV5CTc"
      },
      "source": [
        "#### Résultats et résponses"
      ]
    },
    {
      "cell_type": "code",
      "execution_count": null,
      "metadata": {
        "id": "2cN54rbo5CTc"
      },
      "outputs": [],
      "source": [
        "# Vos résultats ici"
      ]
    },
    {
      "cell_type": "markdown",
      "metadata": {
        "id": "mpq5mo0C5CTd"
      },
      "source": [
        "# Partie 6: Analyse qualitative (5 points)\n",
        "\n",
        "Choisir dans l'ensemble de test, quelques exemples de visages bien et mal classifié par le modèle le plus performant et montrer ces exemples avec la vraie étiquette et la prédiction faite par votre meilleur modèle."
      ]
    },
    {
      "cell_type": "markdown",
      "metadata": {
        "id": "tulOa1q75CTd"
      },
      "source": [
        "#### Code"
      ]
    },
    {
      "cell_type": "code",
      "execution_count": null,
      "metadata": {
        "id": "8JMuDbat5CTd"
      },
      "outputs": [],
      "source": [
        "# Vos résultats ici"
      ]
    },
    {
      "cell_type": "markdown",
      "metadata": {
        "id": "IpVMChOV5CTd"
      },
      "source": [
        "#### Résultats et résponses"
      ]
    },
    {
      "cell_type": "code",
      "execution_count": null,
      "metadata": {
        "id": "anF3jKSk5CTd"
      },
      "outputs": [],
      "source": [
        "# Vos résultats ici"
      ]
    },
    {
      "cell_type": "markdown",
      "metadata": {
        "id": "njstfcBS5CTd"
      },
      "source": [
        "\n",
        "# Partie 7: Cross-Dataset Challenge (10 points)\n",
        "\n",
        "Vous devez tester la capacité de généralisation de votre modèle \"primitive\" (déjà entraîné et testé sur FER) sur un autre ensemble de données.\n",
        "    \n",
        "L’ensemble de données en question c'est le Jaffe dataset qui contient 213 images de sept (7) expressions faciales pose par 10 modèles féminines japonaises. Chaque image a été étiquetée dans six (6) adjectives d’émotion par 60 sujets japonaises. \n",
        "\n",
        "L’ensemble de données originel contient des images 256x256 en niveau de gris, dans le format .tiff, sans compression.\n",
        "\n",
        "Vous avez les données redimensionnées à 48x48 pixels (`jaffe_48x48.csv`), aussi que les données dans la dimension originelle (`jaffe_256x256.csv`). \n",
        "    \n",
        "* Angry (30 exemples):   Y_test[0:30]   = 0 \n",
        "* Disgust (29 exemples): Y_test[30:59]  = 1\n",
        "* Fear (32 exemples): Y_test[59:91]  = 2 \n",
        "* Happy (31 exemples): Y_test[91:122] = 3 \n",
        "* Neutral (30 exemples): Y_test[122:152]= 6 \n",
        "* Surprise (31 exemples): Y_test[152:183]= 5 \n",
        "* Sad (30 exemples): Y_test[183:213]= 4 \n",
        "\n",
        "Attention! Est-ce que le rapport émotion x étiquette numérique est le même que FER?\n",
        "    \n",
        "    \n"
      ]
    },
    {
      "cell_type": "markdown",
      "metadata": {
        "id": "eiDXiuHF5CTd"
      },
      "source": [
        "## 7a: Charger le fichier de données de test (2 points)\n"
      ]
    },
    {
      "cell_type": "code",
      "execution_count": null,
      "metadata": {
        "id": "RSXZtXh_5CTd"
      },
      "outputs": [],
      "source": [
        "import numpy as np\n",
        "\n",
        "# Read from file\n",
        "X_test_jaffe = np.loadtxt('jaffe_48x48.csv', delimiter=',', dtype=int)\n",
        "#X_test_jaffe = np.loadtxt('jaffe_256x256.csv', delimiter=',', dtype=int)\n",
        "y_test_jaffe = np.loadtxt('jaffe_labels.csv', delimiter=',', dtype=int)\n",
        "\n",
        "# reshape to be [samples][pixels][width][height]\n",
        "X_test_jaffe  = X_test_jaffe.reshape(X_test_jaffe.shape[0], 1, 48, 48).astype('uint8')\n",
        "#X_test_jaffe  = X_test_jaffe.reshape(X_test_jaffe.shape[0], 1, 256, 256).astype('uint8')\n",
        "\n",
        "X_test_jaffe.dtype"
      ]
    },
    {
      "cell_type": "markdown",
      "metadata": {
        "id": "GVVmZXUf5CTe"
      },
      "source": [
        "\n",
        "## 7b: Visualisation des visages de Jaffe (8 points)\n"
      ]
    },
    {
      "cell_type": "code",
      "execution_count": null,
      "metadata": {
        "id": "2oVg8Abe5CTe"
      },
      "outputs": [],
      "source": [
        "import matplotlib.pyplot as plt\n",
        "def getLabel(id):\n",
        "    return ['Angry', 'Disgust', 'Fear', 'Happy', 'Sad', 'Surprise', 'Neutral'][id]\n",
        "plt.figure(figsize=(10, 10))\n",
        "j = 0\n",
        "for i in [5, 40, 70, 105, 135, 171, 191]:\n",
        "    plt.subplot(330 + 1 + j)\n",
        "    plt.imshow(np.squeeze(X_test_jaffe[i], axis=0),cmap=plt.get_cmap('gray'))\n",
        "    plt.gca().get_xaxis().set_ticks([])\n",
        "    plt.gca().get_yaxis().set_ticks([])\n",
        "    plt.ylabel('Label = %s' % getLabel(y_test_jaffe[i]), fontsize = 12)\n",
        "    j = j + 1\n",
        "plt.show()"
      ]
    },
    {
      "cell_type": "markdown",
      "metadata": {
        "id": "6EnIdvJZ5CTe"
      },
      "source": [
        "\n",
        "### À faire:\n",
        "1. Apliquer les mêmes prétraitemens sur les images de Jaffe\n",
        "2. Extraire les mêmes primitives des images de Jaffe\n",
        "3. Avoir les mêmes étiquettes (chiffre x émotion) de FER\n",
        "1. Tester vos modèles sur les 213 images de Jaffe dataset.\n",
        "2. Faire une analyse des résultats et présenter vos conclusions sur la capacité de generalisation de votre modèle.\n"
      ]
    },
    {
      "cell_type": "markdown",
      "metadata": {
        "id": "nVw3fEF95CTe"
      },
      "source": [
        "#### Code"
      ]
    },
    {
      "cell_type": "code",
      "execution_count": null,
      "metadata": {
        "id": "S9sTwpbp5CTe"
      },
      "outputs": [],
      "source": [
        "# Votre code ici"
      ]
    },
    {
      "cell_type": "markdown",
      "metadata": {
        "id": "fJot05z85CTe"
      },
      "source": [
        "#### Résultats et résponses"
      ]
    },
    {
      "cell_type": "code",
      "execution_count": null,
      "metadata": {
        "id": "-pHRpDrd5CTe"
      },
      "outputs": [],
      "source": [
        "# Vos résultats ici"
      ]
    },
    {
      "cell_type": "markdown",
      "metadata": {
        "id": "4O9B2uap5CTe"
      },
      "source": [
        "## Partie Finale : Conclusion (5 points)"
      ]
    },
    {
      "cell_type": "markdown",
      "metadata": {
        "id": "m89zmoeu5CTf"
      },
      "source": [
        "### À faire:\n",
        "1. Résumer et comparer les principaux résultats .\n",
        "2. Faire une analyse des résultats obtenus et présenter vos conclusions sur les différents modèles que vous avez entraînés."
      ]
    },
    {
      "cell_type": "markdown",
      "metadata": {
        "id": "aKDGEQTZ5CTf"
      },
      "source": [
        "#### Résultats et résponses"
      ]
    },
    {
      "cell_type": "code",
      "execution_count": null,
      "metadata": {
        "id": "l0WfP2dh5CTf"
      },
      "outputs": [],
      "source": [
        "# Vos résultats ici:"
      ]
    }
  ],
  "metadata": {
    "kernelspec": {
      "display_name": "Python 3",
      "language": "python",
      "name": "python3"
    },
    "language_info": {
      "codemirror_mode": {
        "name": "ipython",
        "version": 3
      },
      "file_extension": ".py",
      "mimetype": "text/x-python",
      "name": "python",
      "nbconvert_exporter": "python",
      "pygments_lexer": "ipython3",
      "version": "3.7.5"
    },
    "colab": {
      "provenance": [],
      "include_colab_link": true
    }
  },
  "nbformat": 4,
  "nbformat_minor": 0
}